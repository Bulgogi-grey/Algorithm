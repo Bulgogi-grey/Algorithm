{
 "cells": [
  {
   "cell_type": "markdown",
   "metadata": {},
   "source": [
    "#### Infix, Prefix and Postfix Expressions"
   ]
  },
  {
   "cell_type": "markdown",
   "metadata": {},
   "source": [
    "- 수학적 연산 표현을 나타낼때 (like B + C), 이 수학적 표현은 수식을 잘 해석하도록 도와준다.\n",
    "    - 수학 연산 표현법으로 3가지가 있다.\n",
    "    - 1. Infix: B * C, ( A + B ) * C \n",
    "        - infix 방법은 사람입장에서 보기 편하다.\n",
    "        - 그러나 컴퓨터가 사칙연산 규칙을 알리가 만무하기때문에 우리가 직접 그렇게 표현해주어야한다.\n",
    "    - 2. Prefix: * B C, * + A B C \n",
    "        - prefix는 연산자가 operand보다 앞에 있는 형태이다.\n",
    "    - 3. Postfix notation (RPN): B C * ,  A B + C *  \n",
    "        - postfix는 연산자가 operand보다 뒤에 있는 형태이다.\n",
    "        \n",
    "        - prefix와 postfix는 위에서 보듯 parenthesis가 필요없다.\n",
    "        - postfix 는 컴퓨터가 연산을 처리하기에 더 적절할 것이다.\n",
    "            - left to right으로 operand는 stack에 다 넣어준다.\n",
    "            - operator를 만나면 operand를 pop하여 처리한다.\n",
    "            - parsing이 전혀 필요가 없다.\n",
    "        - prefix는 LISP (함수형 언어)에서 사용된다."
   ]
  },
  {
   "cell_type": "code",
   "execution_count": 1,
   "metadata": {},
   "outputs": [],
   "source": [
    "import re"
   ]
  },
  {
   "cell_type": "code",
   "execution_count": 5,
   "metadata": {},
   "outputs": [
    {
     "name": "stdout",
     "output_type": "stream",
     "text": [
      "(3+5)*4\n"
     ]
    }
   ],
   "source": [
    "stack = []\n",
    "\n",
    "#expression = input('계산식 입력: ')\n",
    "expression = '(3+5)*4'\n",
    "print(expression)\n",
    "\n",
    "#expression = re.sub( '([\\+\\-\\*\\/\\(\\)])', ' \\g<1> ', expression )\n",
    "                    # +, -, *, / 에 해당하는 부분을 비명명 그룹으로 지정하고 앞 뒤로 띄어준다."
   ]
  },
  {
   "cell_type": "code",
   "execution_count": 7,
   "metadata": {},
   "outputs": [
    {
     "name": "stdout",
     "output_type": "stream",
     "text": [
      "['4', '*', ')', '5', '+', '3', '(']\n",
      "token =  (  (Type.leftparentheses)\n",
      "['4', '*', ')', '5', '+', '3']\n",
      "token =  3  (Type.operand)\n",
      "stack =  ['3']\n",
      "['4', '*', ')', '5', '+']\n",
      "token =  +  (Type.operator)\n",
      "['4', '*', ')', '5']\n",
      "token =  5  (Type.operand)\n",
      "stack =  ['5']\n",
      "['4', '*', ')']\n",
      "token =  )  (Type.rightparentheses)\n",
      "stack =  [('add', '3', '5')]\n",
      "['4', '*']\n",
      "token =  *  (Type.operator)\n",
      "['4']\n",
      "token =  4  (Type.operand)\n",
      "stack =  ['4']\n",
      "stack =  [('mul', ('add', '3', '5'), '4')]\n",
      "stack =  [('mul', ('add', '3', '5'), '4')]\n",
      "('mul', ('add', '3', '5'), '4')\n"
     ]
    }
   ],
   "source": [
    "#import sys\n",
    "from enum import Enum\n",
    "\n",
    "class Type(Enum):\n",
    "    leftparentheses = 0\n",
    "    rightparentheses = 1\n",
    "    operator = 2\n",
    "    empty = 3\n",
    "    operand = 4\n",
    "    \n",
    "OPERATORS = {\n",
    "    \"+\": \"add\",\n",
    "    \"-\": \"sub\",\n",
    "    \"*\": \"mul\",\n",
    "    \"%\": \"modulus\",\n",
    "    \"/\": \"div\",\n",
    "}\n",
    "\n",
    "def textOperator(string):\n",
    "    if string not in OPERATORS:\n",
    "        print('Unknown operator' + string)\n",
    "    return OPERATORS[string]\n",
    "\n",
    "def typeof(string):\n",
    "    if string == '(':\n",
    "        return Type.leftparentheses\n",
    "    elif string == ')':\n",
    "        return Type.rightparentheses\n",
    "    elif string in OPERATORS:\n",
    "        return Type.operator\n",
    "    elif string == ' ':\n",
    "        return Type.empty\n",
    "    else:\n",
    "        return Type.operand\n",
    "    \n",
    "def process(tokens):\n",
    "    \n",
    "    stack = []\n",
    "    \n",
    "    while tokens:\n",
    "        print(tokens)\n",
    "        token = tokens.pop()   # list에서 pop하면 맨 뒤에있는거 나옴 그래서 reverse형태로 받은 것\n",
    "        category = typeof(token)\n",
    "        \n",
    "        print(\"token = \", token, \" (\" + str(category) + \")\")\n",
    "        \n",
    "        if category == Type.operand:\n",
    "            stack.append(token)\n",
    "        elif category == Type.operator:\n",
    "            stack.append( (textOperator(token), stack.pop(), process(tokens)))   # 재귀\n",
    "        elif category == Type.leftparentheses:\n",
    "            stack.append(process(tokens))   # 재귀\n",
    "        elif category == Type.rightparentheses:\n",
    "            return stack.pop()\n",
    "        elif category == Type.empty:\n",
    "            continue\n",
    "            \n",
    "        print(\"stack = \", stack)\n",
    "        \n",
    "    return stack.pop()\n",
    "\n",
    "postfix = process(list(expression[::-1]))\n",
    "\n",
    "print(postfix)"
   ]
  },
  {
   "cell_type": "markdown",
   "metadata": {},
   "source": [
    "#### reference\n",
    "+ [1] concept for in, pre, post fix\n",
    "https://runestone.academy/runestone/books/published/pythonds/BasicDS/InfixPrefixandPostfixExpressions.html\n",
    "\n",
    "+ [2] implementation for infix to postfix\n",
    "https://stackoverflow.com/questions/35759247/converting-infix-to-prefix-in-python"
   ]
  }
 ],
 "metadata": {
  "kernelspec": {
   "display_name": "torch",
   "language": "python",
   "name": "torch"
  },
  "language_info": {
   "codemirror_mode": {
    "name": "ipython",
    "version": 3
   },
   "file_extension": ".py",
   "mimetype": "text/x-python",
   "name": "python",
   "nbconvert_exporter": "python",
   "pygments_lexer": "ipython3",
   "version": "3.6.10"
  }
 },
 "nbformat": 4,
 "nbformat_minor": 4
}
