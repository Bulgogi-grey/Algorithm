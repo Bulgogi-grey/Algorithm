{
 "cells": [
  {
   "cell_type": "markdown",
   "metadata": {},
   "source": [
    "#### Comparison sort\n",
    "1. O(n^2)\n",
    "    - 선택: 최소값을 찾아 앞쪽으로 이동\n",
    "    - 버블: 인접 두개 노드 비교\n",
    "    - 삽입: 맨 앞을 정렬되었다고 치고 하나씩 정렬된 부분되 비교하며 삽입하면서 정렬\n",
    "        - 개념 및 구현\n",
    "            https://m.blog.naver.com/PostView.nhn?blogId=hmin011&logNo=150143192170&proxyReferer=https:%2F%2Fwww.google.com%2F\n",
    "            \n",
    "2. O(n*logn)\n",
    "    - 합병 정렬\n",
    "        - 분할정복 알고리즘\n",
    "        - 원소의 개수가 1 또는 0이 될 때 까지 두 부분을 쪼개고 결과들을 비교하며 정렬하는 방식\n",
    "        - 최소, 최악 모두 O(n*logn)\n",
    "        \n",
    "    - 힙 정렬\n",
    "        - 힙은 Heap Tree로, 여러개의 값 들 중 가장 크거나 작은 값을 빠르게 찾기 위해 만든 이진 트리\n",
    "        - 힙은 항상 완전 이진 트리 형태를 띈다.\n",
    "        - 알고리즘\n",
    "            1. 배열의 원소를 전부 힙에 삽입\n",
    "            2. 가장 부모노드에 있는 값은 최댓값 or 최솟값이므로 루트를 출력하고 힙에서 제거\n",
    "            3. 힙이 빌 때 까지 2의 과정을 반복\n",
    "        - 최소, 최악 모두 O(n *logn)\n",
    "        \n",
    "    - 퀵 정렬\n",
    "        - 배열에 있는 수 중 임의의 pivot을 잡고, 해당 pivot을 기준으로 작거나 같은 수를 왼쪽 파티션, 큰 수를 오른쪽 파티션을 보낸다.\n",
    "        - 다시 왼쪽 파티션 구간에 한하여 pivot을 잡고 파티션을 나누고 오른쪽 파티션 구간에서도 pivot을 잡고 파티션을 나누는 과정을 반복하여 정렬\n",
    "        - pivot을 해당 구간의 중앙값으로 설정하면 -> O(n*logn)\n",
    "        - pivot을 케이스마다 최댓값이나 최솟값으로 설정하며 O(n^2)\n",
    "            - 구현적인 technic으로 최악 시간이 안나오게 하는 방법도 있다.\n",
    "        \n",
    "    - 개념 및 구현: https://butter-shower.tistory.com/17\n",
    "\n",
    "\n",
    "[o] etc. 힙 정렬 vs 퀵 정렬\n",
    "    - 힙 정렬은 O(n* logn)으로 이상적인 알고리즘이다\n",
    "    - 퀵 정렬은 최악시간이 O(n^2)으로 stable 하지 못한 경우가 있다.\n",
    "    - 그러나 최근 크롬 엔진의 sort 함수의 구현이 힙 정렬에서 퀵 정렬로 바뀌었다.\n",
    "    - 그 이유는 swap의 비중때문이다.\n",
    "        - 즉, heap 정렬에서 루트에서 원소 하나를 빼면 heapify 연산을 수행해야 하는데, 이 연산이 데이터가 많으면 퍼포먼스 차원에서 cost가 크게 든다고 한다.\n",
    "        - 또한, 합병 정렬은 배열을 생성하는 시간이 있기 때문에 퀵 정렬을 사용한다.\n",
    "        \n",
    "    - ref: https://brunch.co.kr/@k2u4yt/3\n",
    "    \n",
    "    \n",
    "[o] etc. heap정렬은 in-place 연산이 가능한가?\n",
    "    - heap은 보통 배열의 형태로 구현을 한다.\n",
    "    - 이 때, 배열의 경우 in-place 연산이 가능하다.\n",
    "        - 루트 노드에서 데이터를 뺄 때, 맨 마지막 공간으로 보내고 아예 없는 노드처럼 취급하면 된다.\n",
    "![nn](IMG/1.png)"
   ]
  },
  {
   "cell_type": "markdown",
   "metadata": {},
   "source": [
    "#### Non-comparison sort\n",
    "- Counting sort\n",
    "    - reference\n",
    "    - simple 개념:\n",
    "        https://www.programiz.com/dsa/counting-sort\n",
    "    - implementataion: https://ratsgo.github.io/data%20structure&algorithm/2017/10/16/countingsort/\n",
    "\n",
    "- Radix sort\n",
    "    - reference\n",
    "    - simple 개념: https://www.zerocho.com/category/Algorithm/post/58007c338475ed00152d6c4c\n",
    "    - implementation: https://ratsgo.github.io/data%20structure&algorithm/2017/10/16/countingsort/\n"
   ]
  },
  {
   "cell_type": "markdown",
   "metadata": {},
   "source": [
    "#### Counting sort (계수 정렬)"
   ]
  },
  {
   "cell_type": "code",
   "execution_count": 38,
   "metadata": {},
   "outputs": [],
   "source": [
    "# A: Input array\n",
    "# K: Maximum value of A\n",
    "def counting_sort(A, K):\n",
    "    \n",
    "    # B: output array\n",
    "    # init with -1\n",
    "    B = [-1] * len(A)    \n",
    "                     \n",
    "    # C: counting array\n",
    "    # init with zeros\n",
    "    C = [0] * (K + 1)\n",
    "    \n",
    "    # count occurences\n",
    "    for a in A:\n",
    "        C[a] += 1\n",
    "    \n",
    "    # update C\n",
    "    for i in range(K):\n",
    "        C[i+1] += C[i]\n",
    "    \n",
    "    # update B\n",
    "    for j in reversed(range(len(A))):\n",
    "        print('index', j)\n",
    "        print('counting array', C)\n",
    "        B[C[A[j]] - 1] = A[j]    # counting array에서 해당하는 원소의 count값의 -1 이 output 배열의 위치\n",
    "        C[A[j]] -= 1    # 빼준 자리는 -1하기\n",
    "        print('output array', B)\n",
    "        print('=' * 10)\n",
    "    return B"
   ]
  },
  {
   "cell_type": "code",
   "execution_count": 39,
   "metadata": {
    "scrolled": false
   },
   "outputs": [
    {
     "name": "stdout",
     "output_type": "stream",
     "text": [
      "index 6\n",
      "counting array [0, 1, 1, 1, 1, 1, 1, 1, 2, 2, 3, 3, 4, 4, 4, 4, 4, 4, 4, 4, 4, 4, 4, 5, 5, 5, 5, 5, 5, 5, 5, 5, 5, 6, 6, 7]\n",
      "output array [-1, 8, -1, -1, -1, -1, -1]\n",
      "==========\n",
      "index 5\n",
      "counting array [0, 1, 1, 1, 1, 1, 1, 1, 1, 2, 3, 3, 4, 4, 4, 4, 4, 4, 4, 4, 4, 4, 4, 5, 5, 5, 5, 5, 5, 5, 5, 5, 5, 6, 6, 7]\n",
      "output array [-1, 8, 10, -1, -1, -1, -1]\n",
      "==========\n",
      "index 4\n",
      "counting array [0, 1, 1, 1, 1, 1, 1, 1, 1, 2, 2, 3, 4, 4, 4, 4, 4, 4, 4, 4, 4, 4, 4, 5, 5, 5, 5, 5, 5, 5, 5, 5, 5, 6, 6, 7]\n",
      "output array [1, 8, 10, -1, -1, -1, -1]\n",
      "==========\n",
      "index 3\n",
      "counting array [0, 0, 1, 1, 1, 1, 1, 1, 1, 2, 2, 3, 4, 4, 4, 4, 4, 4, 4, 4, 4, 4, 4, 5, 5, 5, 5, 5, 5, 5, 5, 5, 5, 6, 6, 7]\n",
      "output array [1, 8, 10, -1, 23, -1, -1]\n",
      "==========\n",
      "index 2\n",
      "counting array [0, 0, 1, 1, 1, 1, 1, 1, 1, 2, 2, 3, 4, 4, 4, 4, 4, 4, 4, 4, 4, 4, 4, 4, 5, 5, 5, 5, 5, 5, 5, 5, 5, 6, 6, 7]\n",
      "output array [1, 8, 10, -1, 23, 33, -1]\n",
      "==========\n",
      "index 1\n",
      "counting array [0, 0, 1, 1, 1, 1, 1, 1, 1, 2, 2, 3, 4, 4, 4, 4, 4, 4, 4, 4, 4, 4, 4, 4, 5, 5, 5, 5, 5, 5, 5, 5, 5, 5, 6, 7]\n",
      "output array [1, 8, 10, -1, 23, 33, 35]\n",
      "==========\n",
      "index 0\n",
      "counting array [0, 0, 1, 1, 1, 1, 1, 1, 1, 2, 2, 3, 4, 4, 4, 4, 4, 4, 4, 4, 4, 4, 4, 4, 5, 5, 5, 5, 5, 5, 5, 5, 5, 5, 6, 6]\n",
      "output array [1, 8, 10, 12, 23, 33, 35]\n",
      "==========\n"
     ]
    },
    {
     "data": {
      "text/plain": [
       "[1, 8, 10, 12, 23, 33, 35]"
      ]
     },
     "execution_count": 39,
     "metadata": {},
     "output_type": "execute_result"
    }
   ],
   "source": [
    "arr = [12, 35, 33, 23, 1, 10, 8]\n",
    "counting_sort(arr, max(arr))"
   ]
  },
  {
   "cell_type": "markdown",
   "metadata": {},
   "source": [
    "### Radix sort (기수 정렬)\n",
    "\n",
    "- Radix sort는 각 자리에 위치해 있는 숫자를 grouping(?)하여 오름차순/내림차순으로 원소를 정렬하는 방법이다.\n",
    "\n",
    "- Counting sort를 기반으로 정렬 구현 가능"
   ]
  },
  {
   "cell_type": "code",
   "execution_count": 85,
   "metadata": {},
   "outputs": [],
   "source": [
    "def get_digit(number, d, base):\n",
    "    return (number // base ** d) % base\n",
    "\n",
    "def counting_sort_with_digit(A, d, base):\n",
    "    \n",
    "    # 0 ~ 9 까지만\n",
    "    k = base -1\n",
    "    \n",
    "    B = [-1] * len(A)\n",
    "    \n",
    "    # 0 ~ 9 까지만\n",
    "    C = [0] * (k + 1)\n",
    "    \n",
    "    \n",
    "    # frequency counting\n",
    "    for a in A:\n",
    "        C[get_digit(a, d, base)] += 1\n",
    "    \n",
    "    # couting update\n",
    "    for i in range(k):\n",
    "        C[i+1] += C[i]\n",
    "        \n",
    "    # couting sort\n",
    "    for j in reversed(range(len(A))):\n",
    "        print('j', j)\n",
    "        print('counting arr', C)\n",
    "        B[C[get_digit(A[j], d, base)] -1] = A[j]\n",
    "        C[get_digit(A[j], d, base)] -= 1\n",
    "        print('output array', B)\n",
    "        print('=' * 10)\n",
    "    \n",
    "    return B\n",
    "        \n",
    "def radix_sort(A, K, base=10):\n",
    "    digit = len(str(K))    # faster\n",
    "    #digit = int(log(K, 10) + 1)\n",
    "    \n",
    "    # 자릿수별 counting sort\n",
    "    for i in range(digit):\n",
    "        list = counting_sort_with_digit(A, i, base)\n",
    "        \n",
    "    return list"
   ]
  },
  {
   "cell_type": "code",
   "execution_count": 86,
   "metadata": {
    "scrolled": true
   },
   "outputs": [
    {
     "name": "stdout",
     "output_type": "stream",
     "text": [
      "j 6\n",
      "counting arr [1, 2, 3, 5, 5, 6, 6, 6, 7, 7]\n",
      "output array [-1, -1, -1, -1, -1, -1, 8]\n",
      "==========\n",
      "j 5\n",
      "counting arr [1, 2, 3, 5, 5, 6, 6, 6, 6, 7]\n",
      "output array [10, -1, -1, -1, -1, -1, 8]\n",
      "==========\n",
      "j 4\n",
      "counting arr [0, 2, 3, 5, 5, 6, 6, 6, 6, 7]\n",
      "output array [10, 1, -1, -1, -1, -1, 8]\n",
      "==========\n",
      "j 3\n",
      "counting arr [0, 1, 3, 5, 5, 6, 6, 6, 6, 7]\n",
      "output array [10, 1, -1, -1, 23, -1, 8]\n",
      "==========\n",
      "j 2\n",
      "counting arr [0, 1, 3, 4, 5, 6, 6, 6, 6, 7]\n",
      "output array [10, 1, -1, 33, 23, -1, 8]\n",
      "==========\n",
      "j 1\n",
      "counting arr [0, 1, 3, 3, 5, 6, 6, 6, 6, 7]\n",
      "output array [10, 1, -1, 33, 23, 35, 8]\n",
      "==========\n",
      "j 0\n",
      "counting arr [0, 1, 3, 3, 5, 5, 6, 6, 6, 7]\n",
      "output array [10, 1, 12, 33, 23, 35, 8]\n",
      "==========\n",
      "j 6\n",
      "counting arr [2, 4, 5, 7, 7, 7, 7, 7, 7, 7]\n",
      "output array [-1, 8, -1, -1, -1, -1, -1]\n",
      "==========\n",
      "j 5\n",
      "counting arr [1, 4, 5, 7, 7, 7, 7, 7, 7, 7]\n",
      "output array [-1, 8, -1, 10, -1, -1, -1]\n",
      "==========\n",
      "j 4\n",
      "counting arr [1, 3, 5, 7, 7, 7, 7, 7, 7, 7]\n",
      "output array [1, 8, -1, 10, -1, -1, -1]\n",
      "==========\n",
      "j 3\n",
      "counting arr [0, 3, 5, 7, 7, 7, 7, 7, 7, 7]\n",
      "output array [1, 8, -1, 10, 23, -1, -1]\n",
      "==========\n",
      "j 2\n",
      "counting arr [0, 3, 4, 7, 7, 7, 7, 7, 7, 7]\n",
      "output array [1, 8, -1, 10, 23, -1, 33]\n",
      "==========\n",
      "j 1\n",
      "counting arr [0, 3, 4, 6, 7, 7, 7, 7, 7, 7]\n",
      "output array [1, 8, -1, 10, 23, 35, 33]\n",
      "==========\n",
      "j 0\n",
      "counting arr [0, 3, 4, 5, 7, 7, 7, 7, 7, 7]\n",
      "output array [1, 8, 12, 10, 23, 35, 33]\n",
      "==========\n"
     ]
    },
    {
     "data": {
      "text/plain": [
       "[1, 8, 12, 10, 23, 35, 33]"
      ]
     },
     "execution_count": 86,
     "metadata": {},
     "output_type": "execute_result"
    }
   ],
   "source": [
    "arr = [12, 35, 33, 23, 1, 10, 8]\n",
    "radix_sort(arr, max(arr))"
   ]
  },
  {
   "cell_type": "code",
   "execution_count": null,
   "metadata": {},
   "outputs": [],
   "source": []
  }
 ],
 "metadata": {
  "kernelspec": {
   "display_name": "Python 3",
   "language": "python",
   "name": "python3"
  },
  "language_info": {
   "codemirror_mode": {
    "name": "ipython",
    "version": 3
   },
   "file_extension": ".py",
   "mimetype": "text/x-python",
   "name": "python",
   "nbconvert_exporter": "python",
   "pygments_lexer": "ipython3",
   "version": "3.8.3"
  }
 },
 "nbformat": 4,
 "nbformat_minor": 4
}
