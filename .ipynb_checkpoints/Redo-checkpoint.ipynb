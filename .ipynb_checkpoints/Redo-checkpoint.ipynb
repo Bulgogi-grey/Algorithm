{
 "cells": [
  {
   "cell_type": "code",
   "execution_count": 1,
   "metadata": {},
   "outputs": [
    {
     "data": {
      "text/plain": [
       "120"
      ]
     },
     "execution_count": 1,
     "metadata": {},
     "output_type": "execute_result"
    }
   ],
   "source": [
    "def f(n):\n",
    "    if n==0:\n",
    "        return 1\n",
    "    else:\n",
    "        return n*f(n-1)\n",
    "    \n",
    "f(5)        "
   ]
  },
  {
   "cell_type": "code",
   "execution_count": 4,
   "metadata": {},
   "outputs": [
    {
     "data": {
      "text/plain": [
       "1024"
      ]
     },
     "execution_count": 4,
     "metadata": {},
     "output_type": "execute_result"
    }
   ],
   "source": [
    "def x_sqareN(x, n):\n",
    "    if n==0:\n",
    "        return 1\n",
    "    else:\n",
    "        return x*x_sqareN(x, n-1)\n",
    "\n",
    "x_sqareN(2, 10)"
   ]
  },
  {
   "cell_type": "code",
   "execution_count": 11,
   "metadata": {
    "scrolled": true
   },
   "outputs": [
    {
     "data": {
      "text/plain": [
       "8"
      ]
     },
     "execution_count": 11,
     "metadata": {},
     "output_type": "execute_result"
    }
   ],
   "source": [
    "def fibo(n):\n",
    "    if n<2:\n",
    "        nums.append(n)\n",
    "        return n\n",
    "    else:\n",
    "        return fibo(n-1)+fibo(n-2)\n",
    "fibo(6)"
   ]
  },
  {
   "cell_type": "code",
   "execution_count": 12,
   "metadata": {},
   "outputs": [
    {
     "data": {
      "text/plain": [
       "2"
      ]
     },
     "execution_count": 12,
     "metadata": {},
     "output_type": "execute_result"
    }
   ],
   "source": [
    "def gcd(m, n):\n",
    "    high, low = max(m, n), min(m, n)\n",
    "    \n",
    "    if high % low == 0:\n",
    "        return low\n",
    "    else:\n",
    "        return gcd(low, high%low)\n",
    "gcd(2, 4)"
   ]
  },
  {
   "cell_type": "code",
   "execution_count": null,
   "metadata": {},
   "outputs": [],
   "source": []
  },
  {
   "cell_type": "code",
   "execution_count": 14,
   "metadata": {},
   "outputs": [
    {
     "data": {
      "text/plain": [
       "36"
      ]
     },
     "execution_count": 14,
     "metadata": {},
     "output_type": "execute_result"
    }
   ],
   "source": [
    "def str_len(string):\n",
    "    str_list = list(string)\n",
    "    \n",
    "    try:\n",
    "        char = str_list[0]\n",
    "    except:\n",
    "        return 0\n",
    "    \n",
    "    return 1 + str_len(string[1:])\n",
    "\n",
    "string='dsajdlkasfajfadklfdaln kdjakl djaskl'\n",
    "str_len(string)"
   ]
  },
  {
   "cell_type": "code",
   "execution_count": 48,
   "metadata": {
    "scrolled": true
   },
   "outputs": [
    {
     "name": "stdout",
     "output_type": "stream",
     "text": [
      "1 0 0 0\n"
     ]
    }
   ],
   "source": [
    "temp = []\n",
    "def binary(n):\n",
    "    if n < 2:\n",
    "        temp.append(int(n))\n",
    "    else:\n",
    "        temp.append(int(n%2))\n",
    "        binary(n/2)\n",
    "\n",
    "binary(8)\n",
    "temp.reverse()\n",
    "print(*temp)"
   ]
  },
  {
   "cell_type": "code",
   "execution_count": 10,
   "metadata": {},
   "outputs": [],
   "source": [
    "import numpy as np\n",
    "\n",
    "N=8\n",
    "PATHWAY = 0\n",
    "WALL = 1\n",
    "BLOCKED = 2\n",
    "PATH = 3\n",
    "maze = np.zeros([8,8])"
   ]
  },
  {
   "cell_type": "code",
   "execution_count": 11,
   "metadata": {},
   "outputs": [],
   "source": [
    "maze[:, -1] = WALL\n",
    "maze[[3,-1], -1] = 0\n",
    "maze[1, [1, 2, 4, 5]] = WALL\n",
    "maze[2,3] = WALL\n",
    "maze[3, [1, 4, 5]] = WALL\n",
    "maze[4, [1, 2, 3, 6]] = WALL\n",
    "maze[5, [1, 5]] = WALL\n",
    "maze[6, 3] = WALL\n",
    "maze[7, [1, 2, 3, 5]] = WALL"
   ]
  },
  {
   "cell_type": "code",
   "execution_count": 12,
   "metadata": {},
   "outputs": [
    {
     "data": {
      "text/plain": [
       "array([[0., 0., 0., 0., 0., 0., 0., 1.],\n",
       "       [0., 1., 1., 0., 1., 1., 0., 1.],\n",
       "       [0., 0., 0., 1., 0., 0., 0., 1.],\n",
       "       [0., 1., 0., 0., 1., 1., 0., 0.],\n",
       "       [0., 1., 1., 1., 0., 0., 1., 1.],\n",
       "       [0., 1., 0., 0., 0., 1., 0., 1.],\n",
       "       [0., 0., 0., 1., 0., 0., 0., 1.],\n",
       "       [0., 1., 1., 1., 0., 1., 0., 0.]])"
      ]
     },
     "execution_count": 12,
     "metadata": {},
     "output_type": "execute_result"
    }
   ],
   "source": [
    "maze"
   ]
  },
  {
   "cell_type": "code",
   "execution_count": 13,
   "metadata": {},
   "outputs": [
    {
     "data": {
      "text/plain": [
       "True"
      ]
     },
     "execution_count": 13,
     "metadata": {},
     "output_type": "execute_result"
    }
   ],
   "source": [
    "def find_path(x, y):\n",
    "    # 예외처리\n",
    "    if x<0 or y<0 or x>=N or y>=N:\n",
    "        return False\n",
    "    elif maze[x,y] != PATHWAY:\n",
    "        return False\n",
    "    elif x == N-1 and y == N-1:\n",
    "        maze[x,y] = PATH\n",
    "        return True\n",
    "    else:\n",
    "        maze[x,y] = PATH\n",
    "        if find_path(x-1, y) or find_path(x, y+1) or find_path(x+1, y) or find_path(x, y-1):\n",
    "            return True\n",
    "        maze[x, y] = BLOCKED\n",
    "        return False\n",
    "    \n",
    "find_path(0,0)"
   ]
  },
  {
   "cell_type": "code",
   "execution_count": 14,
   "metadata": {},
   "outputs": [
    {
     "data": {
      "text/plain": [
       "array([[3., 2., 2., 2., 2., 2., 2., 1.],\n",
       "       [3., 1., 1., 2., 1., 1., 2., 1.],\n",
       "       [3., 2., 2., 1., 2., 2., 2., 1.],\n",
       "       [3., 1., 2., 2., 1., 1., 2., 2.],\n",
       "       [3., 1., 1., 1., 2., 2., 1., 1.],\n",
       "       [3., 1., 3., 3., 3., 1., 2., 1.],\n",
       "       [3., 3., 3., 1., 3., 3., 3., 1.],\n",
       "       [0., 1., 1., 1., 0., 1., 3., 3.]])"
      ]
     },
     "execution_count": 14,
     "metadata": {},
     "output_type": "execute_result"
    }
   ],
   "source": [
    "maze"
   ]
  },
  {
   "cell_type": "code",
   "execution_count": 15,
   "metadata": {},
   "outputs": [],
   "source": [
    "import numpy as np\n",
    "import matplotlib.pyplot as plt\n",
    "%matplotlib inline\n",
    "\n",
    "img = np.array([[50, 0, 0, 0, 0, 0, 0, 50],\n",
    "                [0, 50, 50, 0, 0, 50, 0, 0],\n",
    "                [50, 50, 0, 0, 50, 0, 50, 0],\n",
    "                [0, 0, 0, 0, 0, 50, 0, 0],\n",
    "                [0, 50, 0, 50, 0, 50, 0, 0],\n",
    "                [0, 50, 0, 50 ,0, 50 ,0 ,0],\n",
    "                [50, 0, 0, 0, 50,0 ,0 , 50],\n",
    "                [0, 50, 50, 0, 0, 50, 50,50]]\n",
    "                )\n",
    "\n",
    "IMAGE = 50\n",
    "ALREADY = 1\n",
    "N = 8\n",
    "\n",
    "def find_cells_scale(x, y):\n",
    "    \n",
    "    if x<0 or y<0 or x>=N or y>=N:\n",
    "        return 0\n",
    "    elif img[x,y] != IMAGE:\n",
    "        return 0\n",
    "    else:\n",
    "        img[x, y]=ALREADY\n",
    "        return 1 + find_cells_scale(x-1, y+1)+ find_cells_scale(x, y+1) + find_cells_scale(x+1, y+1) + find_cells_scale(x-1, y) + find_cells_scale(x+1, y) + find_cells_scale(x-1, y-1) + find_cells_scale(x, y-1) + find_cells_scale(x+1, y-1)"
   ]
  },
  {
   "cell_type": "code",
   "execution_count": 16,
   "metadata": {},
   "outputs": [
    {
     "data": {
      "text/plain": [
       "5"
      ]
     },
     "execution_count": 16,
     "metadata": {},
     "output_type": "execute_result"
    }
   ],
   "source": [
    "find_cells_scale(0, 0)"
   ]
  },
  {
   "cell_type": "code",
   "execution_count": 19,
   "metadata": {
    "scrolled": true
   },
   "outputs": [
    {
     "name": "stdout",
     "output_type": "stream",
     "text": [
      "[0, 1, 5, 8, 6, 3, 7, 2, 4]\n"
     ]
    },
    {
     "data": {
      "text/plain": [
       "True"
      ]
     },
     "execution_count": 19,
     "metadata": {},
     "output_type": "execute_result"
    }
   ],
   "source": [
    "import numpy as np\n",
    "\n",
    "def promising(level): # 놓을 수 있는지 아닌지 확인하는 부분\n",
    "    for i in range(1, level):\n",
    "        if cols[i] == cols[level]:\n",
    "            return False\n",
    "        elif (level -i) == abs(cols[level] - cols[i]):\n",
    "            return False\n",
    "    return True\n",
    "\n",
    "def queens(level):\n",
    "    if not promising(level):\n",
    "        return False\n",
    "    elif level == N:\n",
    "        print(cols)\n",
    "        return True\n",
    "    \n",
    "    # 만약에 현재 두려고하는 곳(level)이 마지막 단(N)이 아니라면\n",
    "    for i in range(1, N+1):\n",
    "        cols[level+1] = i\n",
    "        if queens(level+1):  # 둘 수 있다면 계속 두고\n",
    "            return True\n",
    "    return False  # 둘 수 없다면 안두는구나\n",
    "\n",
    "N = 8\n",
    "cols = [0, 0, 0, 0, 0, 0, 0, 0, 0]\n",
    "queens(0)"
   ]
  },
  {
   "cell_type": "code",
   "execution_count": 21,
   "metadata": {},
   "outputs": [
    {
     "name": "stdout",
     "output_type": "stream",
     "text": [
      "1번째 말의 위치1\n",
      "2번째 말의 위치5\n",
      "3번째 말의 위치8\n",
      "4번째 말의 위치6\n",
      "5번째 말의 위치3\n",
      "6번째 말의 위치7\n",
      "7번째 말의 위치2\n"
     ]
    }
   ],
   "source": [
    "for i in range(1, N):\n",
    "    print(f'{i}번째 말의 위치{cols[i]}')"
   ]
  },
  {
   "cell_type": "code",
   "execution_count": 23,
   "metadata": {},
   "outputs": [],
   "source": [
    "data = ['a', 'b', 'c', 'd', 'e', 'f']\n",
    "\n",
    "n = len(data)\n",
    "\n",
    "include = [0, 0, 0, 0, 0, 0]"
   ]
  },
  {
   "cell_type": "code",
   "execution_count": 24,
   "metadata": {},
   "outputs": [],
   "source": [
    "def powerSet(k):\n",
    "    if k==n:\n",
    "        for i in range(n):\n",
    "            if include[i]:\n",
    "                print(data[i], end=\" \")\n",
    "        print(\"\\n\")\n",
    "        return\n",
    "    include[k] = False\n",
    "    powerSet(k+1)\n",
    "    include[k] = True\n",
    "    powerSet(k+1)"
   ]
  },
  {
   "cell_type": "code",
   "execution_count": 25,
   "metadata": {
    "scrolled": false
   },
   "outputs": [
    {
     "name": "stdout",
     "output_type": "stream",
     "text": [
      "\n",
      "\n",
      "f \n",
      "\n",
      "e \n",
      "\n",
      "e f \n",
      "\n",
      "d \n",
      "\n",
      "d f \n",
      "\n",
      "d e \n",
      "\n",
      "d e f \n",
      "\n",
      "c \n",
      "\n",
      "c f \n",
      "\n",
      "c e \n",
      "\n",
      "c e f \n",
      "\n",
      "c d \n",
      "\n",
      "c d f \n",
      "\n",
      "c d e \n",
      "\n",
      "c d e f \n",
      "\n",
      "b \n",
      "\n",
      "b f \n",
      "\n",
      "b e \n",
      "\n",
      "b e f \n",
      "\n",
      "b d \n",
      "\n",
      "b d f \n",
      "\n",
      "b d e \n",
      "\n",
      "b d e f \n",
      "\n",
      "b c \n",
      "\n",
      "b c f \n",
      "\n",
      "b c e \n",
      "\n",
      "b c e f \n",
      "\n",
      "b c d \n",
      "\n",
      "b c d f \n",
      "\n",
      "b c d e \n",
      "\n",
      "b c d e f \n",
      "\n",
      "a \n",
      "\n",
      "a f \n",
      "\n",
      "a e \n",
      "\n",
      "a e f \n",
      "\n",
      "a d \n",
      "\n",
      "a d f \n",
      "\n",
      "a d e \n",
      "\n",
      "a d e f \n",
      "\n",
      "a c \n",
      "\n",
      "a c f \n",
      "\n",
      "a c e \n",
      "\n",
      "a c e f \n",
      "\n",
      "a c d \n",
      "\n",
      "a c d f \n",
      "\n",
      "a c d e \n",
      "\n",
      "a c d e f \n",
      "\n",
      "a b \n",
      "\n",
      "a b f \n",
      "\n",
      "a b e \n",
      "\n",
      "a b e f \n",
      "\n",
      "a b d \n",
      "\n",
      "a b d f \n",
      "\n",
      "a b d e \n",
      "\n",
      "a b d e f \n",
      "\n",
      "a b c \n",
      "\n",
      "a b c f \n",
      "\n",
      "a b c e \n",
      "\n",
      "a b c e f \n",
      "\n",
      "a b c d \n",
      "\n",
      "a b c d f \n",
      "\n",
      "a b c d e \n",
      "\n",
      "a b c d e f \n",
      "\n"
     ]
    }
   ],
   "source": [
    "powerSet(0)"
   ]
  }
 ],
 "metadata": {
  "kernelspec": {
   "display_name": "Python 3",
   "language": "python",
   "name": "python3"
  },
  "language_info": {
   "codemirror_mode": {
    "name": "ipython",
    "version": 3
   },
   "file_extension": ".py",
   "mimetype": "text/x-python",
   "name": "python",
   "nbconvert_exporter": "python",
   "pygments_lexer": "ipython3",
   "version": "3.6.5"
  }
 },
 "nbformat": 4,
 "nbformat_minor": 2
}
