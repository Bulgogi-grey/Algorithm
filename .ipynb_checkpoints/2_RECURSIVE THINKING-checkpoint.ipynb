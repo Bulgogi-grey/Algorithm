{
 "cells": [
  {
   "cell_type": "markdown",
   "metadata": {},
   "source": [
    "### Recursion은 수학함수 계산에만 유용한가?\n",
    "- 수학함수뿐 아니라 다른 많은 문제들을 recursion으로 해결할 수 있다."
   ]
  },
  {
   "cell_type": "markdown",
   "metadata": {},
   "source": [
    "#### 문자열의 길이 계산"
   ]
  },
  {
   "cell_type": "markdown",
   "metadata": {},
   "source": [
    "- BASE CASE: 문자열이 비었을때 return 0\n",
    "- RECURSION CASE: 문자열 중 앞 문자를 빼고 카운트 1을 더한 후 RECURSION"
   ]
  },
  {
   "cell_type": "code",
   "execution_count": 1,
   "metadata": {},
   "outputs": [
    {
     "name": "stdout",
     "output_type": "stream",
     "text": [
      "This is recursion\n",
      " 17\n"
     ]
    }
   ],
   "source": [
    "def str_len(string):\n",
    "    \n",
    "    str_list = list(string)\n",
    "    \n",
    "    try: \n",
    "        char = str_list[0] # 비어있다면\n",
    "    except:\n",
    "        return 0\n",
    "        \n",
    "    print(char, end=\"\")\n",
    "    return 1 + str_len(string[1:])\n",
    "    \n",
    "string = 'This is recursion'\n",
    "print('\\n',str_len(string))"
   ]
  },
  {
   "cell_type": "markdown",
   "metadata": {},
   "source": [
    "- 꼭 if else 문이 필요한건 아닙니다\n",
    "\n",
    "\n",
    "\n",
    "- 갑자기 time cost가 궁금해졌으므로 시간 계산을 해보겠습니다."
   ]
  },
  {
   "cell_type": "code",
   "execution_count": 2,
   "metadata": {
    "scrolled": false
   },
   "outputs": [
    {
     "name": "stdout",
     "output_type": "stream",
     "text": [
      "This is recursion\n",
      "0.0005596028124713498\n",
      "2.9619808599617753e-05\n"
     ]
    }
   ],
   "source": [
    "import time\n",
    "\n",
    "t1 = time.perf_counter()\n",
    "str_len(string)\n",
    "t2 = time.perf_counter()\n",
    "print()\n",
    "print(t2 - t1)\n",
    "\n",
    "t1 = time.perf_counter()\n",
    "len(string)\n",
    "t2 = time.perf_counter()\n",
    "print(t2-t1)"
   ]
  },
  {
   "cell_type": "markdown",
   "metadata": {},
   "source": [
    "#### 정수를 2진수로 변환하여 출력"
   ]
  },
  {
   "cell_type": "code",
   "execution_count": 3,
   "metadata": {},
   "outputs": [
    {
     "name": "stdout",
     "output_type": "stream",
     "text": [
      "1\n",
      "0\n",
      "1\n"
     ]
    }
   ],
   "source": [
    "def binary(n):\n",
    "    \n",
    "    if n < 2:\n",
    "        print(int(n))\n",
    "    else:\n",
    "        print(int(n%2))\n",
    "        binary(n/2)\n",
    "        \n",
    "binary(5)"
   ]
  },
  {
   "cell_type": "markdown",
   "metadata": {},
   "source": [
    "#### 갑자기 bin이랑 시간 cost가 궁금해졌네요"
   ]
  },
  {
   "cell_type": "code",
   "execution_count": 4,
   "metadata": {
    "scrolled": true
   },
   "outputs": [
    {
     "name": "stdout",
     "output_type": "stream",
     "text": [
      "0\n",
      "0\n",
      "1\n",
      "0\n",
      "0\n",
      "1\n",
      "1\n",
      "0.00041220900301142116\n",
      "2.926719183049542e-05\n"
     ]
    }
   ],
   "source": [
    "import time\n",
    "\n",
    "t1 = time.perf_counter()\n",
    "binary(100)\n",
    "t2 = time.perf_counter()\n",
    "print(t2 - t1)\n",
    "\n",
    "t1 = time.perf_counter()\n",
    "bin(100)\n",
    "t2 = time.perf_counter()\n",
    "print(t2-t1)"
   ]
  },
  {
   "cell_type": "markdown",
   "metadata": {},
   "source": [
    "- bin이 훨씬 빠르네요"
   ]
  },
  {
   "cell_type": "markdown",
   "metadata": {},
   "source": [
    "#### 비교를 많이 할 거 같으니 cost재는 함수를 만들었습니다.\n",
    "- 파이썬에서는 애스터리스크를 보시는 바와같이 매개변수로 넘겨줄때 쓰임이 달라질 수 있습니다.\n",
    "\n",
    "- 포인터 함수도 사용 가능합니다/"
   ]
  },
  {
   "cell_type": "code",
   "execution_count": 7,
   "metadata": {
    "scrolled": true
   },
   "outputs": [
    {
     "name": "stdout",
     "output_type": "stream",
     "text": [
      "0\n",
      "0\n",
      "1\n",
      "0\n",
      "0\n",
      "1\n",
      "1\n",
      "0.000326875744903532\n",
      "\n",
      "1.41046707113901e-06\n"
     ]
    }
   ],
   "source": [
    "def time_com(func, *parameter):\n",
    "    t1 = time.perf_counter()\n",
    "    func(*parameter)\n",
    "    t2 = time.perf_counter()\n",
    "    print(t2 - t1)\n",
    "    \n",
    "time_com(binary, *[100])\n",
    "time_com(bin, *[100])"
   ]
  },
  {
   "cell_type": "markdown",
   "metadata": {},
   "source": [
    "#### 데이터파일 에서 n개의 정수 읽어오기"
   ]
  },
  {
   "cell_type": "markdown",
   "metadata": {},
   "source": [
    "- BASE CASE: Count == 0, return\n",
    "- RECURSION CASE: 파일의 내용을 읽어들인 후, 하나를 읽은 후 count--, Recursion"
   ]
  },
  {
   "cell_type": "code",
   "execution_count": 10,
   "metadata": {},
   "outputs": [
    {
     "name": "stdout",
     "output_type": "stream",
     "text": [
      "d\n",
      "j\n",
      "s\n",
      "a\n",
      "k\n"
     ]
    }
   ],
   "source": [
    "def read_n_data(data, n=0):\n",
    "\n",
    "    if n == 0:\n",
    "        return\n",
    "    \n",
    "    datum = data[0]\n",
    "    n -= 1\n",
    "    print(datum)\n",
    "    read_n_data(data[1:], n)\n",
    "    \n",
    "with open('aaa.text', 'w') as file:\n",
    "    file.write('djsakldjas djsakl djsad lsdskl jas klsa jaslkjaslk')\n",
    "    \n",
    "data = open('aaa.text', 'r').read()\n",
    "\n",
    "read_n_data(data, 5)\n",
    "            "
   ]
  }
 ],
 "metadata": {
  "kernelspec": {
   "display_name": "Python 3",
   "language": "python",
   "name": "python3"
  },
  "language_info": {
   "codemirror_mode": {
    "name": "ipython",
    "version": 3
   },
   "file_extension": ".py",
   "mimetype": "text/x-python",
   "name": "python",
   "nbconvert_exporter": "python",
   "pygments_lexer": "ipython3",
   "version": "3.6.5"
  }
 },
 "nbformat": 4,
 "nbformat_minor": 2
}
